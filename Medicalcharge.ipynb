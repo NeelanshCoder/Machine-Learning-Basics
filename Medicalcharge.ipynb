{
 "cells": [
  {
   "cell_type": "code",
   "execution_count": 554,
   "metadata": {},
   "outputs": [],
   "source": [
    "import numpy as np\n",
    "import pandas as pd\n",
    "import matplotlib.pyplot as plt\n",
    "import seaborn as sns\n",
    "%matplotlib inline"
   ]
  },
  {
   "cell_type": "code",
   "execution_count": 555,
   "metadata": {},
   "outputs": [
    {
     "data": {
      "text/html": [
       "<div>\n",
       "<style scoped>\n",
       "    .dataframe tbody tr th:only-of-type {\n",
       "        vertical-align: middle;\n",
       "    }\n",
       "\n",
       "    .dataframe tbody tr th {\n",
       "        vertical-align: top;\n",
       "    }\n",
       "\n",
       "    .dataframe thead th {\n",
       "        text-align: right;\n",
       "    }\n",
       "</style>\n",
       "<table border=\"1\" class=\"dataframe\">\n",
       "  <thead>\n",
       "    <tr style=\"text-align: right;\">\n",
       "      <th></th>\n",
       "      <th>age</th>\n",
       "      <th>sex</th>\n",
       "      <th>bmi</th>\n",
       "      <th>children</th>\n",
       "      <th>smoker</th>\n",
       "      <th>region</th>\n",
       "      <th>charges</th>\n",
       "    </tr>\n",
       "  </thead>\n",
       "  <tbody>\n",
       "    <tr>\n",
       "      <th>0</th>\n",
       "      <td>19</td>\n",
       "      <td>female</td>\n",
       "      <td>27.900</td>\n",
       "      <td>0</td>\n",
       "      <td>yes</td>\n",
       "      <td>southwest</td>\n",
       "      <td>16884.92400</td>\n",
       "    </tr>\n",
       "    <tr>\n",
       "      <th>1</th>\n",
       "      <td>18</td>\n",
       "      <td>male</td>\n",
       "      <td>33.770</td>\n",
       "      <td>1</td>\n",
       "      <td>no</td>\n",
       "      <td>southeast</td>\n",
       "      <td>1725.55230</td>\n",
       "    </tr>\n",
       "    <tr>\n",
       "      <th>2</th>\n",
       "      <td>28</td>\n",
       "      <td>male</td>\n",
       "      <td>33.000</td>\n",
       "      <td>3</td>\n",
       "      <td>no</td>\n",
       "      <td>southeast</td>\n",
       "      <td>4449.46200</td>\n",
       "    </tr>\n",
       "    <tr>\n",
       "      <th>3</th>\n",
       "      <td>33</td>\n",
       "      <td>male</td>\n",
       "      <td>22.705</td>\n",
       "      <td>0</td>\n",
       "      <td>no</td>\n",
       "      <td>northwest</td>\n",
       "      <td>21984.47061</td>\n",
       "    </tr>\n",
       "    <tr>\n",
       "      <th>4</th>\n",
       "      <td>32</td>\n",
       "      <td>male</td>\n",
       "      <td>28.880</td>\n",
       "      <td>0</td>\n",
       "      <td>no</td>\n",
       "      <td>northwest</td>\n",
       "      <td>3866.85520</td>\n",
       "    </tr>\n",
       "    <tr>\n",
       "      <th>...</th>\n",
       "      <td>...</td>\n",
       "      <td>...</td>\n",
       "      <td>...</td>\n",
       "      <td>...</td>\n",
       "      <td>...</td>\n",
       "      <td>...</td>\n",
       "      <td>...</td>\n",
       "    </tr>\n",
       "    <tr>\n",
       "      <th>1333</th>\n",
       "      <td>50</td>\n",
       "      <td>male</td>\n",
       "      <td>30.970</td>\n",
       "      <td>3</td>\n",
       "      <td>no</td>\n",
       "      <td>northwest</td>\n",
       "      <td>10600.54830</td>\n",
       "    </tr>\n",
       "    <tr>\n",
       "      <th>1334</th>\n",
       "      <td>18</td>\n",
       "      <td>female</td>\n",
       "      <td>31.920</td>\n",
       "      <td>0</td>\n",
       "      <td>no</td>\n",
       "      <td>northeast</td>\n",
       "      <td>2205.98080</td>\n",
       "    </tr>\n",
       "    <tr>\n",
       "      <th>1335</th>\n",
       "      <td>18</td>\n",
       "      <td>female</td>\n",
       "      <td>36.850</td>\n",
       "      <td>0</td>\n",
       "      <td>no</td>\n",
       "      <td>southeast</td>\n",
       "      <td>1629.83350</td>\n",
       "    </tr>\n",
       "    <tr>\n",
       "      <th>1336</th>\n",
       "      <td>21</td>\n",
       "      <td>female</td>\n",
       "      <td>25.800</td>\n",
       "      <td>0</td>\n",
       "      <td>no</td>\n",
       "      <td>southwest</td>\n",
       "      <td>2007.94500</td>\n",
       "    </tr>\n",
       "    <tr>\n",
       "      <th>1337</th>\n",
       "      <td>61</td>\n",
       "      <td>female</td>\n",
       "      <td>29.070</td>\n",
       "      <td>0</td>\n",
       "      <td>yes</td>\n",
       "      <td>northwest</td>\n",
       "      <td>29141.36030</td>\n",
       "    </tr>\n",
       "  </tbody>\n",
       "</table>\n",
       "<p>1338 rows × 7 columns</p>\n",
       "</div>"
      ],
      "text/plain": [
       "      age     sex     bmi  children smoker     region      charges\n",
       "0      19  female  27.900         0    yes  southwest  16884.92400\n",
       "1      18    male  33.770         1     no  southeast   1725.55230\n",
       "2      28    male  33.000         3     no  southeast   4449.46200\n",
       "3      33    male  22.705         0     no  northwest  21984.47061\n",
       "4      32    male  28.880         0     no  northwest   3866.85520\n",
       "...   ...     ...     ...       ...    ...        ...          ...\n",
       "1333   50    male  30.970         3     no  northwest  10600.54830\n",
       "1334   18  female  31.920         0     no  northeast   2205.98080\n",
       "1335   18  female  36.850         0     no  southeast   1629.83350\n",
       "1336   21  female  25.800         0     no  southwest   2007.94500\n",
       "1337   61  female  29.070         0    yes  northwest  29141.36030\n",
       "\n",
       "[1338 rows x 7 columns]"
      ]
     },
     "execution_count": 555,
     "metadata": {},
     "output_type": "execute_result"
    }
   ],
   "source": [
    "df1=pd.read_csv('medicalcharge.csv')\n",
    "df1"
   ]
  },
  {
   "cell_type": "code",
   "execution_count": 556,
   "metadata": {},
   "outputs": [
    {
     "name": "stdout",
     "output_type": "stream",
     "text": [
      "<class 'pandas.core.frame.DataFrame'>\n",
      "RangeIndex: 1338 entries, 0 to 1337\n",
      "Data columns (total 7 columns):\n",
      " #   Column    Non-Null Count  Dtype  \n",
      "---  ------    --------------  -----  \n",
      " 0   age       1338 non-null   int64  \n",
      " 1   sex       1338 non-null   object \n",
      " 2   bmi       1338 non-null   float64\n",
      " 3   children  1338 non-null   int64  \n",
      " 4   smoker    1338 non-null   object \n",
      " 5   region    1338 non-null   object \n",
      " 6   charges   1338 non-null   float64\n",
      "dtypes: float64(2), int64(2), object(3)\n",
      "memory usage: 73.3+ KB\n"
     ]
    }
   ],
   "source": [
    "df1.info()"
   ]
  },
  {
   "cell_type": "code",
   "execution_count": 557,
   "metadata": {},
   "outputs": [
    {
     "data": {
      "text/plain": [
       "(1338, 7)"
      ]
     },
     "execution_count": 557,
     "metadata": {},
     "output_type": "execute_result"
    }
   ],
   "source": [
    "df1.shape"
   ]
  },
  {
   "cell_type": "code",
   "execution_count": 558,
   "metadata": {},
   "outputs": [
    {
     "data": {
      "text/plain": [
       "Index(['age', 'sex', 'bmi', 'children', 'smoker', 'region', 'charges'], dtype='object')"
      ]
     },
     "execution_count": 558,
     "metadata": {},
     "output_type": "execute_result"
    }
   ],
   "source": [
    "df1.columns"
   ]
  },
  {
   "cell_type": "code",
   "execution_count": 559,
   "metadata": {},
   "outputs": [
    {
     "data": {
      "text/html": [
       "<div>\n",
       "<style scoped>\n",
       "    .dataframe tbody tr th:only-of-type {\n",
       "        vertical-align: middle;\n",
       "    }\n",
       "\n",
       "    .dataframe tbody tr th {\n",
       "        vertical-align: top;\n",
       "    }\n",
       "\n",
       "    .dataframe thead th {\n",
       "        text-align: right;\n",
       "    }\n",
       "</style>\n",
       "<table border=\"1\" class=\"dataframe\">\n",
       "  <thead>\n",
       "    <tr style=\"text-align: right;\">\n",
       "      <th></th>\n",
       "      <th>age</th>\n",
       "      <th>bmi</th>\n",
       "      <th>children</th>\n",
       "      <th>charges</th>\n",
       "    </tr>\n",
       "  </thead>\n",
       "  <tbody>\n",
       "    <tr>\n",
       "      <th>count</th>\n",
       "      <td>1338.000000</td>\n",
       "      <td>1338.000000</td>\n",
       "      <td>1338.000000</td>\n",
       "      <td>1338.000000</td>\n",
       "    </tr>\n",
       "    <tr>\n",
       "      <th>mean</th>\n",
       "      <td>39.207025</td>\n",
       "      <td>30.663397</td>\n",
       "      <td>1.094918</td>\n",
       "      <td>13270.422265</td>\n",
       "    </tr>\n",
       "    <tr>\n",
       "      <th>std</th>\n",
       "      <td>14.049960</td>\n",
       "      <td>6.098187</td>\n",
       "      <td>1.205493</td>\n",
       "      <td>12110.011237</td>\n",
       "    </tr>\n",
       "    <tr>\n",
       "      <th>min</th>\n",
       "      <td>18.000000</td>\n",
       "      <td>15.960000</td>\n",
       "      <td>0.000000</td>\n",
       "      <td>1121.873900</td>\n",
       "    </tr>\n",
       "    <tr>\n",
       "      <th>25%</th>\n",
       "      <td>27.000000</td>\n",
       "      <td>26.296250</td>\n",
       "      <td>0.000000</td>\n",
       "      <td>4740.287150</td>\n",
       "    </tr>\n",
       "    <tr>\n",
       "      <th>50%</th>\n",
       "      <td>39.000000</td>\n",
       "      <td>30.400000</td>\n",
       "      <td>1.000000</td>\n",
       "      <td>9382.033000</td>\n",
       "    </tr>\n",
       "    <tr>\n",
       "      <th>75%</th>\n",
       "      <td>51.000000</td>\n",
       "      <td>34.693750</td>\n",
       "      <td>2.000000</td>\n",
       "      <td>16639.912515</td>\n",
       "    </tr>\n",
       "    <tr>\n",
       "      <th>max</th>\n",
       "      <td>64.000000</td>\n",
       "      <td>53.130000</td>\n",
       "      <td>5.000000</td>\n",
       "      <td>63770.428010</td>\n",
       "    </tr>\n",
       "  </tbody>\n",
       "</table>\n",
       "</div>"
      ],
      "text/plain": [
       "               age          bmi     children       charges\n",
       "count  1338.000000  1338.000000  1338.000000   1338.000000\n",
       "mean     39.207025    30.663397     1.094918  13270.422265\n",
       "std      14.049960     6.098187     1.205493  12110.011237\n",
       "min      18.000000    15.960000     0.000000   1121.873900\n",
       "25%      27.000000    26.296250     0.000000   4740.287150\n",
       "50%      39.000000    30.400000     1.000000   9382.033000\n",
       "75%      51.000000    34.693750     2.000000  16639.912515\n",
       "max      64.000000    53.130000     5.000000  63770.428010"
      ]
     },
     "execution_count": 559,
     "metadata": {},
     "output_type": "execute_result"
    }
   ],
   "source": [
    "df1.describe()"
   ]
  },
  {
   "cell_type": "code",
   "execution_count": 560,
   "metadata": {},
   "outputs": [
    {
     "data": {
      "text/plain": [
       "age   sex   bmi   children  smoker  region  charges\n",
       "True  True  True  True      True    True    True       1338\n",
       "dtype: int64"
      ]
     },
     "execution_count": 560,
     "metadata": {},
     "output_type": "execute_result"
    }
   ],
   "source": [
    "df1.notnull().value_counts()"
   ]
  },
  {
   "cell_type": "code",
   "execution_count": 561,
   "metadata": {},
   "outputs": [
    {
     "data": {
      "text/plain": [
       "array(['female', 'male'], dtype=object)"
      ]
     },
     "execution_count": 561,
     "metadata": {},
     "output_type": "execute_result"
    }
   ],
   "source": [
    "df1['sex'].unique()"
   ]
  },
  {
   "cell_type": "code",
   "execution_count": 562,
   "metadata": {},
   "outputs": [
    {
     "data": {
      "text/plain": [
       "no     1064\n",
       "yes     274\n",
       "Name: smoker, dtype: int64"
      ]
     },
     "execution_count": 562,
     "metadata": {},
     "output_type": "execute_result"
    }
   ],
   "source": [
    "df1['smoker'].value_counts()"
   ]
  },
  {
   "cell_type": "code",
   "execution_count": 563,
   "metadata": {},
   "outputs": [
    {
     "data": {
      "text/plain": [
       "male      676\n",
       "female    662\n",
       "Name: sex, dtype: int64"
      ]
     },
     "execution_count": 563,
     "metadata": {},
     "output_type": "execute_result"
    }
   ],
   "source": [
    "df1['sex'].value_counts()"
   ]
  },
  {
   "cell_type": "code",
   "execution_count": 564,
   "metadata": {},
   "outputs": [
    {
     "data": {
      "text/plain": [
       "([<matplotlib.patches.Wedge at 0x24cad7e65b0>,\n",
       "  <matplotlib.patches.Wedge at 0x24cad7e6a90>],\n",
       " [Text(-0.018078568997004985, 1.0998514287589123, 'male'),\n",
       "  Text(0.018078568997005343, -1.0998514287589123, 'female')])"
      ]
     },
     "execution_count": 564,
     "metadata": {},
     "output_type": "execute_result"
    },
    {
     "data": {
      "image/png": "[encoded data removed]",
      "text/plain": [
       "<Figure size 432x288 with 1 Axes>"
      ]
     },
     "metadata": {},
     "output_type": "display_data"
    }
   ],
   "source": [
    "a=['male','female']\n",
    "plt.pie(df1['sex'].value_counts(),labels=a)"
   ]
  },
  {
   "cell_type": "code",
   "execution_count": 565,
   "metadata": {},
   "outputs": [
    {
     "data": {
      "text/plain": [
       "age           int64\n",
       "sex          object\n",
       "bmi         float64\n",
       "children      int64\n",
       "smoker       object\n",
       "region       object\n",
       "charges     float64\n",
       "dtype: object"
      ]
     },
     "execution_count": 565,
     "metadata": {},
     "output_type": "execute_result"
    }
   ],
   "source": [
    "df1.dtypes"
   ]
  },
  {
   "cell_type": "code",
   "execution_count": 566,
   "metadata": {},
   "outputs": [
    {
     "data": {
      "text/plain": [
       "object     3\n",
       "float64    2\n",
       "int64      2\n",
       "dtype: int64"
      ]
     },
     "execution_count": 566,
     "metadata": {},
     "output_type": "execute_result"
    }
   ],
   "source": [
    "df1.dtypes.value_counts()"
   ]
  },
  {
   "cell_type": "code",
   "execution_count": 570,
   "metadata": {},
   "outputs": [
    {
     "data": {
      "text/html": [
       "<div>\n",
       "<style scoped>\n",
       "    .dataframe tbody tr th:only-of-type {\n",
       "        vertical-align: middle;\n",
       "    }\n",
       "\n",
       "    .dataframe tbody tr th {\n",
       "        vertical-align: top;\n",
       "    }\n",
       "\n",
       "    .dataframe thead th {\n",
       "        text-align: right;\n",
       "    }\n",
       "</style>\n",
       "<table border=\"1\" class=\"dataframe\">\n",
       "  <thead>\n",
       "    <tr style=\"text-align: right;\">\n",
       "      <th></th>\n",
       "      <th>no</th>\n",
       "      <th>yes</th>\n",
       "    </tr>\n",
       "  </thead>\n",
       "  <tbody>\n",
       "    <tr>\n",
       "      <th>0</th>\n",
       "      <td>0</td>\n",
       "      <td>1</td>\n",
       "    </tr>\n",
       "    <tr>\n",
       "      <th>1</th>\n",
       "      <td>1</td>\n",
       "      <td>0</td>\n",
       "    </tr>\n",
       "    <tr>\n",
       "      <th>2</th>\n",
       "      <td>1</td>\n",
       "      <td>0</td>\n",
       "    </tr>\n",
       "    <tr>\n",
       "      <th>3</th>\n",
       "      <td>1</td>\n",
       "      <td>0</td>\n",
       "    </tr>\n",
       "    <tr>\n",
       "      <th>4</th>\n",
       "      <td>1</td>\n",
       "      <td>0</td>\n",
       "    </tr>\n",
       "    <tr>\n",
       "      <th>...</th>\n",
       "      <td>...</td>\n",
       "      <td>...</td>\n",
       "    </tr>\n",
       "    <tr>\n",
       "      <th>1333</th>\n",
       "      <td>1</td>\n",
       "      <td>0</td>\n",
       "    </tr>\n",
       "    <tr>\n",
       "      <th>1334</th>\n",
       "      <td>1</td>\n",
       "      <td>0</td>\n",
       "    </tr>\n",
       "    <tr>\n",
       "      <th>1335</th>\n",
       "      <td>1</td>\n",
       "      <td>0</td>\n",
       "    </tr>\n",
       "    <tr>\n",
       "      <th>1336</th>\n",
       "      <td>1</td>\n",
       "      <td>0</td>\n",
       "    </tr>\n",
       "    <tr>\n",
       "      <th>1337</th>\n",
       "      <td>0</td>\n",
       "      <td>1</td>\n",
       "    </tr>\n",
       "  </tbody>\n",
       "</table>\n",
       "<p>1338 rows × 2 columns</p>\n",
       "</div>"
      ],
      "text/plain": [
       "      no  yes\n",
       "0      0    1\n",
       "1      1    0\n",
       "2      1    0\n",
       "3      1    0\n",
       "4      1    0\n",
       "...   ..  ...\n",
       "1333   1    0\n",
       "1334   1    0\n",
       "1335   1    0\n",
       "1336   1    0\n",
       "1337   0    1\n",
       "\n",
       "[1338 rows x 2 columns]"
      ]
     },
     "execution_count": 570,
     "metadata": {},
     "output_type": "execute_result"
    }
   ],
   "source": [
    "A=pd.get_dummies(df1['smoker'])\n",
    "A"
   ]
  },
  {
   "cell_type": "code",
   "execution_count": 571,
   "metadata": {},
   "outputs": [
    {
     "data": {
      "text/html": [
       "<div>\n",
       "<style scoped>\n",
       "    .dataframe tbody tr th:only-of-type {\n",
       "        vertical-align: middle;\n",
       "    }\n",
       "\n",
       "    .dataframe tbody tr th {\n",
       "        vertical-align: top;\n",
       "    }\n",
       "\n",
       "    .dataframe thead th {\n",
       "        text-align: right;\n",
       "    }\n",
       "</style>\n",
       "<table border=\"1\" class=\"dataframe\">\n",
       "  <thead>\n",
       "    <tr style=\"text-align: right;\">\n",
       "      <th></th>\n",
       "      <th>female</th>\n",
       "      <th>male</th>\n",
       "    </tr>\n",
       "  </thead>\n",
       "  <tbody>\n",
       "    <tr>\n",
       "      <th>0</th>\n",
       "      <td>1</td>\n",
       "      <td>0</td>\n",
       "    </tr>\n",
       "    <tr>\n",
       "      <th>1</th>\n",
       "      <td>0</td>\n",
       "      <td>1</td>\n",
       "    </tr>\n",
       "    <tr>\n",
       "      <th>2</th>\n",
       "      <td>0</td>\n",
       "      <td>1</td>\n",
       "    </tr>\n",
       "    <tr>\n",
       "      <th>3</th>\n",
       "      <td>0</td>\n",
       "      <td>1</td>\n",
       "    </tr>\n",
       "    <tr>\n",
       "      <th>4</th>\n",
       "      <td>0</td>\n",
       "      <td>1</td>\n",
       "    </tr>\n",
       "    <tr>\n",
       "      <th>...</th>\n",
       "      <td>...</td>\n",
       "      <td>...</td>\n",
       "    </tr>\n",
       "    <tr>\n",
       "      <th>1333</th>\n",
       "      <td>0</td>\n",
       "      <td>1</td>\n",
       "    </tr>\n",
       "    <tr>\n",
       "      <th>1334</th>\n",
       "      <td>1</td>\n",
       "      <td>0</td>\n",
       "    </tr>\n",
       "    <tr>\n",
       "      <th>1335</th>\n",
       "      <td>1</td>\n",
       "      <td>0</td>\n",
       "    </tr>\n",
       "    <tr>\n",
       "      <th>1336</th>\n",
       "      <td>1</td>\n",
       "      <td>0</td>\n",
       "    </tr>\n",
       "    <tr>\n",
       "      <th>1337</th>\n",
       "      <td>1</td>\n",
       "      <td>0</td>\n",
       "    </tr>\n",
       "  </tbody>\n",
       "</table>\n",
       "<p>1338 rows × 2 columns</p>\n",
       "</div>"
      ],
      "text/plain": [
       "      female  male\n",
       "0          1     0\n",
       "1          0     1\n",
       "2          0     1\n",
       "3          0     1\n",
       "4          0     1\n",
       "...      ...   ...\n",
       "1333       0     1\n",
       "1334       1     0\n",
       "1335       1     0\n",
       "1336       1     0\n",
       "1337       1     0\n",
       "\n",
       "[1338 rows x 2 columns]"
      ]
     },
     "execution_count": 571,
     "metadata": {},
     "output_type": "execute_result"
    }
   ],
   "source": [
    "B=pd.get_dummies(df1['sex'])\n",
    "B"
   ]
  },
  {
   "cell_type": "markdown",
   "metadata": {},
   "source": [
    "# Dependent Variable"
   ]
  },
  {
   "cell_type": "code",
   "execution_count": 33,
   "metadata": {},
   "outputs": [
    {
     "data": {
      "text/plain": [
       "0       16884.92400\n",
       "1        1725.55230\n",
       "2        4449.46200\n",
       "3       21984.47061\n",
       "4        3866.85520\n",
       "           ...     \n",
       "1333    10600.54830\n",
       "1334     2205.98080\n",
       "1335     1629.83350\n",
       "1336     2007.94500\n",
       "1337    29141.36030\n",
       "Name: charges, Length: 1338, dtype: float64"
      ]
     },
     "execution_count": 33,
     "metadata": {},
     "output_type": "execute_result"
    }
   ],
   "source": [
    "Y=df1['charges']\n",
    "Y"
   ]
  },
  {
   "cell_type": "markdown",
   "metadata": {},
   "source": [
    "# Independent Variable"
   ]
  },
  {
   "cell_type": "code",
   "execution_count": 378,
   "metadata": {},
   "outputs": [
    {
     "data": {
      "text/html": [
       "<div>\n",
       "<style scoped>\n",
       "    .dataframe tbody tr th:only-of-type {\n",
       "        vertical-align: middle;\n",
       "    }\n",
       "\n",
       "    .dataframe tbody tr th {\n",
       "        vertical-align: top;\n",
       "    }\n",
       "\n",
       "    .dataframe thead th {\n",
       "        text-align: right;\n",
       "    }\n",
       "</style>\n",
       "<table border=\"1\" class=\"dataframe\">\n",
       "  <thead>\n",
       "    <tr style=\"text-align: right;\">\n",
       "      <th></th>\n",
       "      <th>age</th>\n",
       "      <th>bmi</th>\n",
       "      <th>children</th>\n",
       "    </tr>\n",
       "  </thead>\n",
       "  <tbody>\n",
       "    <tr>\n",
       "      <th>0</th>\n",
       "      <td>19</td>\n",
       "      <td>27.900</td>\n",
       "      <td>0</td>\n",
       "    </tr>\n",
       "    <tr>\n",
       "      <th>1</th>\n",
       "      <td>18</td>\n",
       "      <td>33.770</td>\n",
       "      <td>1</td>\n",
       "    </tr>\n",
       "    <tr>\n",
       "      <th>2</th>\n",
       "      <td>28</td>\n",
       "      <td>33.000</td>\n",
       "      <td>3</td>\n",
       "    </tr>\n",
       "    <tr>\n",
       "      <th>3</th>\n",
       "      <td>33</td>\n",
       "      <td>22.705</td>\n",
       "      <td>0</td>\n",
       "    </tr>\n",
       "    <tr>\n",
       "      <th>4</th>\n",
       "      <td>32</td>\n",
       "      <td>28.880</td>\n",
       "      <td>0</td>\n",
       "    </tr>\n",
       "    <tr>\n",
       "      <th>...</th>\n",
       "      <td>...</td>\n",
       "      <td>...</td>\n",
       "      <td>...</td>\n",
       "    </tr>\n",
       "    <tr>\n",
       "      <th>1333</th>\n",
       "      <td>50</td>\n",
       "      <td>30.970</td>\n",
       "      <td>3</td>\n",
       "    </tr>\n",
       "    <tr>\n",
       "      <th>1334</th>\n",
       "      <td>18</td>\n",
       "      <td>31.920</td>\n",
       "      <td>0</td>\n",
       "    </tr>\n",
       "    <tr>\n",
       "      <th>1335</th>\n",
       "      <td>18</td>\n",
       "      <td>36.850</td>\n",
       "      <td>0</td>\n",
       "    </tr>\n",
       "    <tr>\n",
       "      <th>1336</th>\n",
       "      <td>21</td>\n",
       "      <td>25.800</td>\n",
       "      <td>0</td>\n",
       "    </tr>\n",
       "    <tr>\n",
       "      <th>1337</th>\n",
       "      <td>61</td>\n",
       "      <td>29.070</td>\n",
       "      <td>0</td>\n",
       "    </tr>\n",
       "  </tbody>\n",
       "</table>\n",
       "<p>1338 rows × 3 columns</p>\n",
       "</div>"
      ],
      "text/plain": [
       "      age     bmi  children\n",
       "0      19  27.900         0\n",
       "1      18  33.770         1\n",
       "2      28  33.000         3\n",
       "3      33  22.705         0\n",
       "4      32  28.880         0\n",
       "...   ...     ...       ...\n",
       "1333   50  30.970         3\n",
       "1334   18  31.920         0\n",
       "1335   18  36.850         0\n",
       "1336   21  25.800         0\n",
       "1337   61  29.070         0\n",
       "\n",
       "[1338 rows x 3 columns]"
      ]
     },
     "execution_count": 378,
     "metadata": {},
     "output_type": "execute_result"
    }
   ],
   "source": [
    "X=df1[['age','bmi','children']]\n",
    "X"
   ]
  },
  {
   "cell_type": "code",
   "execution_count": 572,
   "metadata": {},
   "outputs": [
    {
     "data": {
      "text/html": [
       "<div>\n",
       "<style scoped>\n",
       "    .dataframe tbody tr th:only-of-type {\n",
       "        vertical-align: middle;\n",
       "    }\n",
       "\n",
       "    .dataframe tbody tr th {\n",
       "        vertical-align: top;\n",
       "    }\n",
       "\n",
       "    .dataframe thead th {\n",
       "        text-align: right;\n",
       "    }\n",
       "</style>\n",
       "<table border=\"1\" class=\"dataframe\">\n",
       "  <thead>\n",
       "    <tr style=\"text-align: right;\">\n",
       "      <th></th>\n",
       "      <th>age</th>\n",
       "      <th>bmi</th>\n",
       "      <th>children</th>\n",
       "      <th>no</th>\n",
       "      <th>yes</th>\n",
       "      <th>female</th>\n",
       "      <th>male</th>\n",
       "    </tr>\n",
       "  </thead>\n",
       "  <tbody>\n",
       "    <tr>\n",
       "      <th>0</th>\n",
       "      <td>19</td>\n",
       "      <td>27.900</td>\n",
       "      <td>0</td>\n",
       "      <td>0</td>\n",
       "      <td>1</td>\n",
       "      <td>1</td>\n",
       "      <td>0</td>\n",
       "    </tr>\n",
       "    <tr>\n",
       "      <th>1</th>\n",
       "      <td>18</td>\n",
       "      <td>33.770</td>\n",
       "      <td>1</td>\n",
       "      <td>1</td>\n",
       "      <td>0</td>\n",
       "      <td>0</td>\n",
       "      <td>1</td>\n",
       "    </tr>\n",
       "    <tr>\n",
       "      <th>2</th>\n",
       "      <td>28</td>\n",
       "      <td>33.000</td>\n",
       "      <td>3</td>\n",
       "      <td>1</td>\n",
       "      <td>0</td>\n",
       "      <td>0</td>\n",
       "      <td>1</td>\n",
       "    </tr>\n",
       "    <tr>\n",
       "      <th>3</th>\n",
       "      <td>33</td>\n",
       "      <td>22.705</td>\n",
       "      <td>0</td>\n",
       "      <td>1</td>\n",
       "      <td>0</td>\n",
       "      <td>0</td>\n",
       "      <td>1</td>\n",
       "    </tr>\n",
       "    <tr>\n",
       "      <th>4</th>\n",
       "      <td>32</td>\n",
       "      <td>28.880</td>\n",
       "      <td>0</td>\n",
       "      <td>1</td>\n",
       "      <td>0</td>\n",
       "      <td>0</td>\n",
       "      <td>1</td>\n",
       "    </tr>\n",
       "    <tr>\n",
       "      <th>...</th>\n",
       "      <td>...</td>\n",
       "      <td>...</td>\n",
       "      <td>...</td>\n",
       "      <td>...</td>\n",
       "      <td>...</td>\n",
       "      <td>...</td>\n",
       "      <td>...</td>\n",
       "    </tr>\n",
       "    <tr>\n",
       "      <th>1333</th>\n",
       "      <td>50</td>\n",
       "      <td>30.970</td>\n",
       "      <td>3</td>\n",
       "      <td>1</td>\n",
       "      <td>0</td>\n",
       "      <td>0</td>\n",
       "      <td>1</td>\n",
       "    </tr>\n",
       "    <tr>\n",
       "      <th>1334</th>\n",
       "      <td>18</td>\n",
       "      <td>31.920</td>\n",
       "      <td>0</td>\n",
       "      <td>1</td>\n",
       "      <td>0</td>\n",
       "      <td>1</td>\n",
       "      <td>0</td>\n",
       "    </tr>\n",
       "    <tr>\n",
       "      <th>1335</th>\n",
       "      <td>18</td>\n",
       "      <td>36.850</td>\n",
       "      <td>0</td>\n",
       "      <td>1</td>\n",
       "      <td>0</td>\n",
       "      <td>1</td>\n",
       "      <td>0</td>\n",
       "    </tr>\n",
       "    <tr>\n",
       "      <th>1336</th>\n",
       "      <td>21</td>\n",
       "      <td>25.800</td>\n",
       "      <td>0</td>\n",
       "      <td>1</td>\n",
       "      <td>0</td>\n",
       "      <td>1</td>\n",
       "      <td>0</td>\n",
       "    </tr>\n",
       "    <tr>\n",
       "      <th>1337</th>\n",
       "      <td>61</td>\n",
       "      <td>29.070</td>\n",
       "      <td>0</td>\n",
       "      <td>0</td>\n",
       "      <td>1</td>\n",
       "      <td>1</td>\n",
       "      <td>0</td>\n",
       "    </tr>\n",
       "  </tbody>\n",
       "</table>\n",
       "<p>1338 rows × 7 columns</p>\n",
       "</div>"
      ],
      "text/plain": [
       "      age     bmi  children  no  yes  female  male\n",
       "0      19  27.900         0   0    1       1     0\n",
       "1      18  33.770         1   1    0       0     1\n",
       "2      28  33.000         3   1    0       0     1\n",
       "3      33  22.705         0   1    0       0     1\n",
       "4      32  28.880         0   1    0       0     1\n",
       "...   ...     ...       ...  ..  ...     ...   ...\n",
       "1333   50  30.970         3   1    0       0     1\n",
       "1334   18  31.920         0   1    0       1     0\n",
       "1335   18  36.850         0   1    0       1     0\n",
       "1336   21  25.800         0   1    0       1     0\n",
       "1337   61  29.070         0   0    1       1     0\n",
       "\n",
       "[1338 rows x 7 columns]"
      ]
     },
     "execution_count": 572,
     "metadata": {},
     "output_type": "execute_result"
    }
   ],
   "source": [
    "X1=pd.concat([X,A,B],axis=1)\n",
    "X1"
   ]
  },
  {
   "cell_type": "code",
   "execution_count": 573,
   "metadata": {},
   "outputs": [
    {
     "data": {
      "text/plain": [
       "age           int64\n",
       "bmi         float64\n",
       "children      int64\n",
       "no            uint8\n",
       "yes           uint8\n",
       "female        uint8\n",
       "male          uint8\n",
       "dtype: object"
      ]
     },
     "execution_count": 573,
     "metadata": {},
     "output_type": "execute_result"
    }
   ],
   "source": [
    "X1.dtypes"
   ]
  },
  {
   "cell_type": "code",
   "execution_count": 574,
   "metadata": {},
   "outputs": [
    {
     "data": {
      "text/html": [
       "<div>\n",
       "<style scoped>\n",
       "    .dataframe tbody tr th:only-of-type {\n",
       "        vertical-align: middle;\n",
       "    }\n",
       "\n",
       "    .dataframe tbody tr th {\n",
       "        vertical-align: top;\n",
       "    }\n",
       "\n",
       "    .dataframe thead th {\n",
       "        text-align: right;\n",
       "    }\n",
       "</style>\n",
       "<table border=\"1\" class=\"dataframe\">\n",
       "  <thead>\n",
       "    <tr style=\"text-align: right;\">\n",
       "      <th></th>\n",
       "      <th>age</th>\n",
       "      <th>bmi</th>\n",
       "      <th>children</th>\n",
       "      <th>no</th>\n",
       "      <th>yes</th>\n",
       "      <th>female</th>\n",
       "      <th>male</th>\n",
       "    </tr>\n",
       "  </thead>\n",
       "  <tbody>\n",
       "    <tr>\n",
       "      <th>age</th>\n",
       "      <td>1.000000</td>\n",
       "      <td>0.109272</td>\n",
       "      <td>0.042469</td>\n",
       "      <td>0.025019</td>\n",
       "      <td>-0.025019</td>\n",
       "      <td>0.020856</td>\n",
       "      <td>-0.020856</td>\n",
       "    </tr>\n",
       "    <tr>\n",
       "      <th>bmi</th>\n",
       "      <td>0.109272</td>\n",
       "      <td>1.000000</td>\n",
       "      <td>0.012759</td>\n",
       "      <td>-0.003750</td>\n",
       "      <td>0.003750</td>\n",
       "      <td>-0.046371</td>\n",
       "      <td>0.046371</td>\n",
       "    </tr>\n",
       "    <tr>\n",
       "      <th>children</th>\n",
       "      <td>0.042469</td>\n",
       "      <td>0.012759</td>\n",
       "      <td>1.000000</td>\n",
       "      <td>-0.007673</td>\n",
       "      <td>0.007673</td>\n",
       "      <td>-0.017163</td>\n",
       "      <td>0.017163</td>\n",
       "    </tr>\n",
       "    <tr>\n",
       "      <th>no</th>\n",
       "      <td>0.025019</td>\n",
       "      <td>-0.003750</td>\n",
       "      <td>-0.007673</td>\n",
       "      <td>1.000000</td>\n",
       "      <td>-1.000000</td>\n",
       "      <td>0.076185</td>\n",
       "      <td>-0.076185</td>\n",
       "    </tr>\n",
       "    <tr>\n",
       "      <th>yes</th>\n",
       "      <td>-0.025019</td>\n",
       "      <td>0.003750</td>\n",
       "      <td>0.007673</td>\n",
       "      <td>-1.000000</td>\n",
       "      <td>1.000000</td>\n",
       "      <td>-0.076185</td>\n",
       "      <td>0.076185</td>\n",
       "    </tr>\n",
       "    <tr>\n",
       "      <th>female</th>\n",
       "      <td>0.020856</td>\n",
       "      <td>-0.046371</td>\n",
       "      <td>-0.017163</td>\n",
       "      <td>0.076185</td>\n",
       "      <td>-0.076185</td>\n",
       "      <td>1.000000</td>\n",
       "      <td>-1.000000</td>\n",
       "    </tr>\n",
       "    <tr>\n",
       "      <th>male</th>\n",
       "      <td>-0.020856</td>\n",
       "      <td>0.046371</td>\n",
       "      <td>0.017163</td>\n",
       "      <td>-0.076185</td>\n",
       "      <td>0.076185</td>\n",
       "      <td>-1.000000</td>\n",
       "      <td>1.000000</td>\n",
       "    </tr>\n",
       "  </tbody>\n",
       "</table>\n",
       "</div>"
      ],
      "text/plain": [
       "               age       bmi  children        no       yes    female      male\n",
       "age       1.000000  0.109272  0.042469  0.025019 -0.025019  0.020856 -0.020856\n",
       "bmi       0.109272  1.000000  0.012759 -0.003750  0.003750 -0.046371  0.046371\n",
       "children  0.042469  0.012759  1.000000 -0.007673  0.007673 -0.017163  0.017163\n",
       "no        0.025019 -0.003750 -0.007673  1.000000 -1.000000  0.076185 -0.076185\n",
       "yes      -0.025019  0.003750  0.007673 -1.000000  1.000000 -0.076185  0.076185\n",
       "female    0.020856 -0.046371 -0.017163  0.076185 -0.076185  1.000000 -1.000000\n",
       "male     -0.020856  0.046371  0.017163 -0.076185  0.076185 -1.000000  1.000000"
      ]
     },
     "execution_count": 574,
     "metadata": {},
     "output_type": "execute_result"
    }
   ],
   "source": [
    "X1.corr()"
   ]
  },
  {
   "cell_type": "code",
   "execution_count": 575,
   "metadata": {},
   "outputs": [
    {
     "data": {
      "text/plain": [
       "<seaborn.axisgrid.PairGrid at 0x24cad600430>"
      ]
     },
     "execution_count": 575,
     "metadata": {},
     "output_type": "execute_result"
    },
    {
     "data": {
      "image/png": "[encoded data removed]",
      "text/plain": [
       "<Figure size 1260x1260 with 56 Axes>"
      ]
     },
     "metadata": {
      "needs_background": "light"
     },
     "output_type": "display_data"
    }
   ],
   "source": [
    "sns.pairplot(X1.corr())"
   ]
  },
  {
   "cell_type": "code",
   "execution_count": 576,
   "metadata": {},
   "outputs": [
    {
     "data": {
      "text/plain": [
       "<AxesSubplot:>"
      ]
     },
     "execution_count": 576,
     "metadata": {},
     "output_type": "execute_result"
    },
    {
     "data": {
      "image/png": "[encoded data removed]",
      "text/plain": [
       "<Figure size 432x288 with 2 Axes>"
      ]
     },
     "metadata": {
      "needs_background": "light"
     },
     "output_type": "display_data"
    }
   ],
   "source": [
    "sns.heatmap(X1.corr(),annot=True)"
   ]
  },
  {
   "cell_type": "code",
   "execution_count": 577,
   "metadata": {},
   "outputs": [
    {
     "data": {
      "text/html": [
       "<div>\n",
       "<style scoped>\n",
       "    .dataframe tbody tr th:only-of-type {\n",
       "        vertical-align: middle;\n",
       "    }\n",
       "\n",
       "    .dataframe tbody tr th {\n",
       "        vertical-align: top;\n",
       "    }\n",
       "\n",
       "    .dataframe thead th {\n",
       "        text-align: right;\n",
       "    }\n",
       "</style>\n",
       "<table border=\"1\" class=\"dataframe\">\n",
       "  <thead>\n",
       "    <tr style=\"text-align: right;\">\n",
       "      <th></th>\n",
       "      <th>age</th>\n",
       "      <th>bmi</th>\n",
       "      <th>children</th>\n",
       "      <th>no</th>\n",
       "      <th>yes</th>\n",
       "      <th>female</th>\n",
       "      <th>male</th>\n",
       "    </tr>\n",
       "  </thead>\n",
       "  <tbody>\n",
       "    <tr>\n",
       "      <th>count</th>\n",
       "      <td>1338.000000</td>\n",
       "      <td>1338.000000</td>\n",
       "      <td>1338.000000</td>\n",
       "      <td>1338.000000</td>\n",
       "      <td>1338.000000</td>\n",
       "      <td>1338.000000</td>\n",
       "      <td>1338.000000</td>\n",
       "    </tr>\n",
       "    <tr>\n",
       "      <th>mean</th>\n",
       "      <td>39.207025</td>\n",
       "      <td>30.663397</td>\n",
       "      <td>1.094918</td>\n",
       "      <td>0.795217</td>\n",
       "      <td>0.204783</td>\n",
       "      <td>0.494768</td>\n",
       "      <td>0.505232</td>\n",
       "    </tr>\n",
       "    <tr>\n",
       "      <th>std</th>\n",
       "      <td>14.049960</td>\n",
       "      <td>6.098187</td>\n",
       "      <td>1.205493</td>\n",
       "      <td>0.403694</td>\n",
       "      <td>0.403694</td>\n",
       "      <td>0.500160</td>\n",
       "      <td>0.500160</td>\n",
       "    </tr>\n",
       "    <tr>\n",
       "      <th>min</th>\n",
       "      <td>18.000000</td>\n",
       "      <td>15.960000</td>\n",
       "      <td>0.000000</td>\n",
       "      <td>0.000000</td>\n",
       "      <td>0.000000</td>\n",
       "      <td>0.000000</td>\n",
       "      <td>0.000000</td>\n",
       "    </tr>\n",
       "    <tr>\n",
       "      <th>25%</th>\n",
       "      <td>27.000000</td>\n",
       "      <td>26.296250</td>\n",
       "      <td>0.000000</td>\n",
       "      <td>1.000000</td>\n",
       "      <td>0.000000</td>\n",
       "      <td>0.000000</td>\n",
       "      <td>0.000000</td>\n",
       "    </tr>\n",
       "    <tr>\n",
       "      <th>50%</th>\n",
       "      <td>39.000000</td>\n",
       "      <td>30.400000</td>\n",
       "      <td>1.000000</td>\n",
       "      <td>1.000000</td>\n",
       "      <td>0.000000</td>\n",
       "      <td>0.000000</td>\n",
       "      <td>1.000000</td>\n",
       "    </tr>\n",
       "    <tr>\n",
       "      <th>75%</th>\n",
       "      <td>51.000000</td>\n",
       "      <td>34.693750</td>\n",
       "      <td>2.000000</td>\n",
       "      <td>1.000000</td>\n",
       "      <td>0.000000</td>\n",
       "      <td>1.000000</td>\n",
       "      <td>1.000000</td>\n",
       "    </tr>\n",
       "    <tr>\n",
       "      <th>max</th>\n",
       "      <td>64.000000</td>\n",
       "      <td>53.130000</td>\n",
       "      <td>5.000000</td>\n",
       "      <td>1.000000</td>\n",
       "      <td>1.000000</td>\n",
       "      <td>1.000000</td>\n",
       "      <td>1.000000</td>\n",
       "    </tr>\n",
       "  </tbody>\n",
       "</table>\n",
       "</div>"
      ],
      "text/plain": [
       "               age          bmi     children           no          yes  \\\n",
       "count  1338.000000  1338.000000  1338.000000  1338.000000  1338.000000   \n",
       "mean     39.207025    30.663397     1.094918     0.795217     0.204783   \n",
       "std      14.049960     6.098187     1.205493     0.403694     0.403694   \n",
       "min      18.000000    15.960000     0.000000     0.000000     0.000000   \n",
       "25%      27.000000    26.296250     0.000000     1.000000     0.000000   \n",
       "50%      39.000000    30.400000     1.000000     1.000000     0.000000   \n",
       "75%      51.000000    34.693750     2.000000     1.000000     0.000000   \n",
       "max      64.000000    53.130000     5.000000     1.000000     1.000000   \n",
       "\n",
       "            female         male  \n",
       "count  1338.000000  1338.000000  \n",
       "mean      0.494768     0.505232  \n",
       "std       0.500160     0.500160  \n",
       "min       0.000000     0.000000  \n",
       "25%       0.000000     0.000000  \n",
       "50%       0.000000     1.000000  \n",
       "75%       1.000000     1.000000  \n",
       "max       1.000000     1.000000  "
      ]
     },
     "execution_count": 577,
     "metadata": {},
     "output_type": "execute_result"
    }
   ],
   "source": [
    "X1.describe()"
   ]
  },
  {
   "cell_type": "markdown",
   "metadata": {},
   "source": [
    "# Train Test Split"
   ]
  },
  {
   "cell_type": "code",
   "execution_count": 578,
   "metadata": {},
   "outputs": [],
   "source": [
    "from sklearn.model_selection import train_test_split"
   ]
  },
  {
   "cell_type": "code",
   "execution_count": 642,
   "metadata": {},
   "outputs": [],
   "source": [
    "X1_train,X1_test,Y_train,Y_test=train_test_split(X1,Y,test_size=0.20,random_state=40)"
   ]
  },
  {
   "cell_type": "code",
   "execution_count": 643,
   "metadata": {},
   "outputs": [
    {
     "data": {
      "text/html": [
       "<div>\n",
       "<style scoped>\n",
       "    .dataframe tbody tr th:only-of-type {\n",
       "        vertical-align: middle;\n",
       "    }\n",
       "\n",
       "    .dataframe tbody tr th {\n",
       "        vertical-align: top;\n",
       "    }\n",
       "\n",
       "    .dataframe thead th {\n",
       "        text-align: right;\n",
       "    }\n",
       "</style>\n",
       "<table border=\"1\" class=\"dataframe\">\n",
       "  <thead>\n",
       "    <tr style=\"text-align: right;\">\n",
       "      <th></th>\n",
       "      <th>age</th>\n",
       "      <th>bmi</th>\n",
       "      <th>children</th>\n",
       "      <th>no</th>\n",
       "      <th>yes</th>\n",
       "      <th>female</th>\n",
       "      <th>male</th>\n",
       "    </tr>\n",
       "  </thead>\n",
       "  <tbody>\n",
       "    <tr>\n",
       "      <th>737</th>\n",
       "      <td>26</td>\n",
       "      <td>23.70</td>\n",
       "      <td>2</td>\n",
       "      <td>1</td>\n",
       "      <td>0</td>\n",
       "      <td>0</td>\n",
       "      <td>1</td>\n",
       "    </tr>\n",
       "    <tr>\n",
       "      <th>369</th>\n",
       "      <td>18</td>\n",
       "      <td>30.40</td>\n",
       "      <td>3</td>\n",
       "      <td>1</td>\n",
       "      <td>0</td>\n",
       "      <td>0</td>\n",
       "      <td>1</td>\n",
       "    </tr>\n",
       "    <tr>\n",
       "      <th>284</th>\n",
       "      <td>52</td>\n",
       "      <td>31.20</td>\n",
       "      <td>0</td>\n",
       "      <td>1</td>\n",
       "      <td>0</td>\n",
       "      <td>1</td>\n",
       "      <td>0</td>\n",
       "    </tr>\n",
       "    <tr>\n",
       "      <th>1302</th>\n",
       "      <td>25</td>\n",
       "      <td>20.80</td>\n",
       "      <td>1</td>\n",
       "      <td>1</td>\n",
       "      <td>0</td>\n",
       "      <td>1</td>\n",
       "      <td>0</td>\n",
       "    </tr>\n",
       "    <tr>\n",
       "      <th>958</th>\n",
       "      <td>43</td>\n",
       "      <td>34.96</td>\n",
       "      <td>1</td>\n",
       "      <td>0</td>\n",
       "      <td>1</td>\n",
       "      <td>0</td>\n",
       "      <td>1</td>\n",
       "    </tr>\n",
       "  </tbody>\n",
       "</table>\n",
       "</div>"
      ],
      "text/plain": [
       "      age    bmi  children  no  yes  female  male\n",
       "737    26  23.70         2   1    0       0     1\n",
       "369    18  30.40         3   1    0       0     1\n",
       "284    52  31.20         0   1    0       1     0\n",
       "1302   25  20.80         1   1    0       1     0\n",
       "958    43  34.96         1   0    1       0     1"
      ]
     },
     "execution_count": 643,
     "metadata": {},
     "output_type": "execute_result"
    }
   ],
   "source": [
    "X1_train.head()"
   ]
  },
  {
   "cell_type": "code",
   "execution_count": 644,
   "metadata": {},
   "outputs": [
    {
     "data": {
      "text/plain": [
       "737      3484.3310\n",
       "369      3481.8680\n",
       "284      9625.9200\n",
       "1302     3208.7870\n",
       "958     41034.2214\n",
       "Name: charges, dtype: float64"
      ]
     },
     "execution_count": 644,
     "metadata": {},
     "output_type": "execute_result"
    }
   ],
   "source": [
    "Y_train.head()"
   ]
  },
  {
   "cell_type": "code",
   "execution_count": 645,
   "metadata": {},
   "outputs": [
    {
     "data": {
      "text/html": [
       "<div>\n",
       "<style scoped>\n",
       "    .dataframe tbody tr th:only-of-type {\n",
       "        vertical-align: middle;\n",
       "    }\n",
       "\n",
       "    .dataframe tbody tr th {\n",
       "        vertical-align: top;\n",
       "    }\n",
       "\n",
       "    .dataframe thead th {\n",
       "        text-align: right;\n",
       "    }\n",
       "</style>\n",
       "<table border=\"1\" class=\"dataframe\">\n",
       "  <thead>\n",
       "    <tr style=\"text-align: right;\">\n",
       "      <th></th>\n",
       "      <th>age</th>\n",
       "      <th>bmi</th>\n",
       "      <th>children</th>\n",
       "      <th>no</th>\n",
       "      <th>yes</th>\n",
       "      <th>female</th>\n",
       "      <th>male</th>\n",
       "    </tr>\n",
       "  </thead>\n",
       "  <tbody>\n",
       "    <tr>\n",
       "      <th>1099</th>\n",
       "      <td>25</td>\n",
       "      <td>33.99</td>\n",
       "      <td>1</td>\n",
       "      <td>1</td>\n",
       "      <td>0</td>\n",
       "      <td>1</td>\n",
       "      <td>0</td>\n",
       "    </tr>\n",
       "    <tr>\n",
       "      <th>759</th>\n",
       "      <td>18</td>\n",
       "      <td>38.17</td>\n",
       "      <td>0</td>\n",
       "      <td>0</td>\n",
       "      <td>1</td>\n",
       "      <td>0</td>\n",
       "      <td>1</td>\n",
       "    </tr>\n",
       "    <tr>\n",
       "      <th>215</th>\n",
       "      <td>41</td>\n",
       "      <td>37.10</td>\n",
       "      <td>2</td>\n",
       "      <td>1</td>\n",
       "      <td>0</td>\n",
       "      <td>1</td>\n",
       "      <td>0</td>\n",
       "    </tr>\n",
       "    <tr>\n",
       "      <th>903</th>\n",
       "      <td>49</td>\n",
       "      <td>36.85</td>\n",
       "      <td>0</td>\n",
       "      <td>1</td>\n",
       "      <td>0</td>\n",
       "      <td>0</td>\n",
       "      <td>1</td>\n",
       "    </tr>\n",
       "    <tr>\n",
       "      <th>989</th>\n",
       "      <td>24</td>\n",
       "      <td>20.52</td>\n",
       "      <td>0</td>\n",
       "      <td>0</td>\n",
       "      <td>1</td>\n",
       "      <td>1</td>\n",
       "      <td>0</td>\n",
       "    </tr>\n",
       "  </tbody>\n",
       "</table>\n",
       "</div>"
      ],
      "text/plain": [
       "      age    bmi  children  no  yes  female  male\n",
       "1099   25  33.99         1   1    0       1     0\n",
       "759    18  38.17         0   0    1       0     1\n",
       "215    41  37.10         2   1    0       1     0\n",
       "903    49  36.85         0   1    0       0     1\n",
       "989    24  20.52         0   0    1       1     0"
      ]
     },
     "execution_count": 645,
     "metadata": {},
     "output_type": "execute_result"
    }
   ],
   "source": [
    "X1_test.head()"
   ]
  },
  {
   "cell_type": "code",
   "execution_count": 646,
   "metadata": {},
   "outputs": [
    {
     "data": {
      "text/plain": [
       "age         268\n",
       "bmi         268\n",
       "children    268\n",
       "no          268\n",
       "yes         268\n",
       "female      268\n",
       "male        268\n",
       "dtype: int64"
      ]
     },
     "execution_count": 646,
     "metadata": {},
     "output_type": "execute_result"
    }
   ],
   "source": [
    "X1_test.count()"
   ]
  },
  {
   "cell_type": "code",
   "execution_count": 647,
   "metadata": {},
   "outputs": [
    {
     "data": {
      "text/plain": [
       "(1070, 7)"
      ]
     },
     "execution_count": 647,
     "metadata": {},
     "output_type": "execute_result"
    }
   ],
   "source": [
    "X1_train.shape"
   ]
  },
  {
   "cell_type": "code",
   "execution_count": 648,
   "metadata": {},
   "outputs": [
    {
     "data": {
      "text/plain": [
       "(1070,)"
      ]
     },
     "execution_count": 648,
     "metadata": {},
     "output_type": "execute_result"
    }
   ],
   "source": [
    "Y_train.shape"
   ]
  },
  {
   "cell_type": "markdown",
   "metadata": {},
   "source": [
    "# Linear Regression Least Square Method"
   ]
  },
  {
   "cell_type": "code",
   "execution_count": 649,
   "metadata": {},
   "outputs": [],
   "source": [
    "from sklearn.linear_model import LinearRegression"
   ]
  },
  {
   "cell_type": "code",
   "execution_count": 650,
   "metadata": {},
   "outputs": [],
   "source": [
    "lr=LinearRegression()"
   ]
  },
  {
   "cell_type": "code",
   "execution_count": 651,
   "metadata": {},
   "outputs": [
    {
     "data": {
      "text/plain": [
       "LinearRegression()"
      ]
     },
     "execution_count": 651,
     "metadata": {},
     "output_type": "execute_result"
    }
   ],
   "source": [
    "lr.fit(X1_train,Y_train)"
   ]
  },
  {
   "cell_type": "code",
   "execution_count": 652,
   "metadata": {},
   "outputs": [
    {
     "data": {
      "text/plain": [
       "array([ 5.78995213e+03,  2.84015620e+04,  1.14346119e+04,  1.21495903e+04,\n",
       "        2.44560773e+04,  6.92782243e+03,  1.41103814e+04,  3.00520181e+04,\n",
       "        1.21249332e+04,  3.16306201e+04,  3.34149146e+04,  1.20199613e+04,\n",
       "        1.39729036e+04,  1.09389921e+04,  1.30439325e+04,  6.70315855e+03,\n",
       "        6.57389389e+03,  3.83005033e+04,  3.52023989e+04,  7.80846179e+03,\n",
       "        1.25347732e+04,  2.27157353e+03,  5.92901103e+03,  3.26380742e+04,\n",
       "        1.41197948e+04,  2.55679977e+04,  1.43773066e+04,  2.11691511e+03,\n",
       "        7.14902264e+03,  9.28188625e+03,  3.03132946e+04,  9.08417324e+03,\n",
       "        3.16405732e+04,  3.62396758e+04,  2.31611650e+04,  6.12781116e+02,\n",
       "        1.42762289e+04,  1.05924301e+04,  9.60622743e+03,  1.67107291e+04,\n",
       "        8.05642111e+03,  1.29879875e+04,  8.50127795e+03,  7.52683591e+03,\n",
       "        1.38791730e+03,  9.78349459e+03,  3.31302551e+03,  2.76477116e+04,\n",
       "        6.25537764e+03,  1.00568781e+04,  1.43457490e+04,  2.54817311e+04,\n",
       "        8.59658503e+03,  1.11962535e+04,  9.07219318e+03,  8.49815202e+02,\n",
       "        9.87813262e+03,  5.79667730e+03,  1.00375836e+04,  6.01388028e+03,\n",
       "        4.38318545e+03,  1.91778773e+03,  3.72116135e+03,  1.72806073e+04,\n",
       "        3.50415541e+03,  4.69330736e+03,  1.10037970e+04,  2.19307041e+03,\n",
       "        1.22034363e+04,  3.18876503e+04,  2.81093028e+03,  2.16877075e+03,\n",
       "        8.01980477e+03,  8.37473595e+03, -5.38526947e+01,  6.81987772e+03,\n",
       "        1.12163529e+04,  8.97368116e+03,  1.35138405e+04,  5.93539113e+03,\n",
       "        3.76297459e+03,  3.13990178e+04,  3.53789166e+04,  2.60142096e+03,\n",
       "        3.74304600e+04,  2.89066170e+04,  2.51558321e+03,  9.31023359e+03,\n",
       "        1.09046888e+04,  3.13159807e+04,  3.19492239e+04,  1.31731295e+04,\n",
       "        1.04096049e+04,  5.83153577e+03,  6.71928069e+03,  5.54839836e+03,\n",
       "        2.68060843e+04,  8.28066862e+03,  5.95362872e+03,  8.89013785e+03,\n",
       "        9.19902436e+03,  3.45695144e+04,  1.69716510e+04,  9.19572201e+03,\n",
       "        1.27058325e+04,  3.09741889e+04,  1.72196556e+04,  9.57676659e+03,\n",
       "        1.33141958e+04,  7.70152248e+03,  2.45188958e+03,  5.86132873e+01,\n",
       "        1.08761428e+04,  2.61574017e+04,  8.41262618e+03,  1.21997802e+04,\n",
       "        3.66711034e+04,  7.74468341e+03,  5.40346022e+03,  1.33133173e+04,\n",
       "        1.57130083e+03,  6.17857783e+03,  1.69303349e+04,  1.45406636e+04,\n",
       "        2.55085206e+04,  2.80103915e+04,  1.54341072e+04,  2.65182347e+03,\n",
       "        1.21596668e+04, -7.01340456e+01,  1.19582450e+04,  3.76933695e+04,\n",
       "        3.01366332e+04,  3.88783028e+03,  1.13350711e+03,  1.47095034e+04,\n",
       "        1.38840697e+04,  1.77835075e+04,  1.26846808e+04,  1.39554017e+04,\n",
       "        3.04535156e+04,  9.72887395e+03,  8.08258262e+03,  3.23678487e+04,\n",
       "        1.26737762e+04,  5.82915064e+03,  3.44455887e+04,  3.02473608e+04,\n",
       "        5.98149604e+03,  3.09417261e+03,  7.51227618e+03,  4.37339440e+03,\n",
       "        1.55117861e+04,  1.38745632e+04,  2.44573907e+03,  1.60598018e+03,\n",
       "        1.40516186e+04,  1.75627213e+04,  1.10492530e+04,  9.57168924e+03,\n",
       "        1.24621530e+04,  2.75933430e+04,  9.27715078e+03,  8.33792257e+03,\n",
       "        1.00967404e+04,  7.20294379e+03,  8.35886701e+03,  2.94068183e+03,\n",
       "        1.02166791e+04,  8.77028227e+03,  7.61554291e+03,  8.12809296e+03,\n",
       "        6.76350014e+03,  3.62198188e+03,  8.50558385e+03,  7.52030871e+03,\n",
       "        5.47913022e+03,  2.88265644e+03,  2.71527524e+04,  1.43276185e+04,\n",
       "        5.58842171e+03,  2.60310383e+03,  4.49337296e+02,  9.07457831e+03,\n",
       "        7.91288127e+03,  3.64750041e+04,  4.77858903e+03,  2.98272642e+04,\n",
       "        1.17125652e+04,  5.36818999e+03,  4.41800913e+03,  3.84049222e+03,\n",
       "        6.79176064e+03,  9.65284742e+03,  3.00506014e+04,  1.00606748e+04,\n",
       "       -4.16455964e+00,  9.50271028e+03, -6.93732006e+02,  7.75108368e+03,\n",
       "        7.29883950e+03,  6.57837733e+03,  3.67376832e+03,  1.58038345e+04,\n",
       "        5.37979086e+03,  2.93158098e+04,  3.40135865e+04,  1.58741447e+04,\n",
       "        3.38376459e+03,  9.21540970e+03,  1.31117863e+04,  1.90225781e+04,\n",
       "        9.20774082e+03,  1.52345701e+04,  2.61775746e+04,  7.37486602e+03,\n",
       "        3.34379010e+04,  3.51810982e+04,  3.99050520e+03,  1.29463154e+04,\n",
       "        5.66809196e+03,  5.78815788e+03,  3.59906974e+04,  2.51522418e+03,\n",
       "        2.49974933e+03,  5.34014579e+03,  3.94759746e+04,  2.24084126e+02,\n",
       "        5.65640107e+03,  7.38797657e+03,  6.69864097e+03,  6.83287438e+03,\n",
       "        1.56884631e+04,  7.63368678e+03,  5.22758978e+03,  3.50980402e+04,\n",
       "        9.85181348e+03,  5.92642793e+03,  1.19967781e+04,  1.58580718e+03,\n",
       "        3.57475017e+03,  3.94069358e+03,  1.09065172e+04,  4.42582536e+03,\n",
       "        1.18130511e+04,  1.24492061e+04,  3.03737051e+04,  2.59153988e+03,\n",
       "        1.87586522e+03,  1.54327833e+04,  7.25840348e+03,  1.16739256e+04,\n",
       "        3.01326543e+04,  3.37330876e+04,  9.62022764e+03,  3.79730953e+04,\n",
       "        3.02075870e+04,  4.28380985e+03,  1.14727737e+04,  2.84880126e+03,\n",
       "        1.54845326e+04,  7.66569710e+03,  1.27229992e+04,  6.11070733e+03,\n",
       "        1.30568267e+04,  9.99074663e+03,  1.60225052e+03,  2.93797145e+04])"
      ]
     },
     "execution_count": 652,
     "metadata": {},
     "output_type": "execute_result"
    }
   ],
   "source": [
    "testprice=lr.predict(X1_test)\n",
    "testprice"
   ]
  },
  {
   "cell_type": "code",
   "execution_count": 653,
   "metadata": {},
   "outputs": [
    {
     "data": {
      "text/html": [
       "<div>\n",
       "<style scoped>\n",
       "    .dataframe tbody tr th:only-of-type {\n",
       "        vertical-align: middle;\n",
       "    }\n",
       "\n",
       "    .dataframe tbody tr th {\n",
       "        vertical-align: top;\n",
       "    }\n",
       "\n",
       "    .dataframe thead th {\n",
       "        text-align: right;\n",
       "    }\n",
       "</style>\n",
       "<table border=\"1\" class=\"dataframe\">\n",
       "  <thead>\n",
       "    <tr style=\"text-align: right;\">\n",
       "      <th></th>\n",
       "      <th>Original Price</th>\n",
       "      <th>Predicted Price</th>\n",
       "    </tr>\n",
       "  </thead>\n",
       "  <tbody>\n",
       "    <tr>\n",
       "      <th>1099</th>\n",
       "      <td>3227.12110</td>\n",
       "      <td>30749.269857</td>\n",
       "    </tr>\n",
       "    <tr>\n",
       "      <th>759</th>\n",
       "      <td>36307.79830</td>\n",
       "      <td>4768.166655</td>\n",
       "    </tr>\n",
       "    <tr>\n",
       "      <th>215</th>\n",
       "      <td>7371.77200</td>\n",
       "      <td>4551.630870</td>\n",
       "    </tr>\n",
       "    <tr>\n",
       "      <th>903</th>\n",
       "      <td>8125.78450</td>\n",
       "      <td>23027.250023</td>\n",
       "    </tr>\n",
       "    <tr>\n",
       "      <th>989</th>\n",
       "      <td>14571.89080</td>\n",
       "      <td>10698.128901</td>\n",
       "    </tr>\n",
       "    <tr>\n",
       "      <th>...</th>\n",
       "      <td>...</td>\n",
       "      <td>...</td>\n",
       "    </tr>\n",
       "    <tr>\n",
       "      <th>408</th>\n",
       "      <td>6652.52880</td>\n",
       "      <td>9252.580038</td>\n",
       "    </tr>\n",
       "    <tr>\n",
       "      <th>466</th>\n",
       "      <td>13224.69300</td>\n",
       "      <td>12507.313217</td>\n",
       "    </tr>\n",
       "    <tr>\n",
       "      <th>724</th>\n",
       "      <td>10106.13425</td>\n",
       "      <td>4806.365656</td>\n",
       "    </tr>\n",
       "    <tr>\n",
       "      <th>693</th>\n",
       "      <td>2352.96845</td>\n",
       "      <td>10093.893536</td>\n",
       "    </tr>\n",
       "    <tr>\n",
       "      <th>738</th>\n",
       "      <td>36189.10170</td>\n",
       "      <td>2889.250215</td>\n",
       "    </tr>\n",
       "  </tbody>\n",
       "</table>\n",
       "<p>268 rows × 2 columns</p>\n",
       "</div>"
      ],
      "text/plain": [
       "      Original Price  Predicted Price\n",
       "1099      3227.12110     30749.269857\n",
       "759      36307.79830      4768.166655\n",
       "215       7371.77200      4551.630870\n",
       "903       8125.78450     23027.250023\n",
       "989      14571.89080     10698.128901\n",
       "...              ...              ...\n",
       "408       6652.52880      9252.580038\n",
       "466      13224.69300     12507.313217\n",
       "724      10106.13425      4806.365656\n",
       "693       2352.96845     10093.893536\n",
       "738      36189.10170      2889.250215\n",
       "\n",
       "[268 rows x 2 columns]"
      ]
     },
     "execution_count": 653,
     "metadata": {},
     "output_type": "execute_result"
    }
   ],
   "source": [
    "pd.DataFrame({'Original Price':Y_test,'Predicted Price':testprice1})"
   ]
  },
  {
   "cell_type": "markdown",
   "metadata": {},
   "source": [
    "# Evaluation Least Square Method"
   ]
  },
  {
   "cell_type": "code",
   "execution_count": 654,
   "metadata": {},
   "outputs": [
    {
     "data": {
      "text/plain": [
       "0.7318775053160517"
      ]
     },
     "execution_count": 654,
     "metadata": {},
     "output_type": "execute_result"
    }
   ],
   "source": [
    "lr.score(X1_test,Y_test)"
   ]
  },
  {
   "cell_type": "code",
   "execution_count": 655,
   "metadata": {},
   "outputs": [
    {
     "data": {
      "text/plain": [
       "0.7541110398362936"
      ]
     },
     "execution_count": 655,
     "metadata": {},
     "output_type": "execute_result"
    }
   ],
   "source": [
    "lr.score(X1_train,Y_train)"
   ]
  },
  {
   "cell_type": "markdown",
   "metadata": {},
   "source": [
    "# Linear Regression Using Gradient Descent"
   ]
  },
  {
   "cell_type": "code",
   "execution_count": 656,
   "metadata": {},
   "outputs": [],
   "source": [
    "from sklearn.linear_model import SGDRegressor"
   ]
  },
  {
   "cell_type": "code",
   "execution_count": 657,
   "metadata": {},
   "outputs": [],
   "source": [
    "sgd=SGDRegressor(max_iter=10000,eta0=0.001)"
   ]
  },
  {
   "cell_type": "code",
   "execution_count": 658,
   "metadata": {},
   "outputs": [
    {
     "data": {
      "text/plain": [
       "SGDRegressor(eta0=0.001, max_iter=10000)"
      ]
     },
     "execution_count": 658,
     "metadata": {},
     "output_type": "execute_result"
    }
   ],
   "source": [
    "sgd.fit(X1_train,Y_train)"
   ]
  },
  {
   "cell_type": "code",
   "execution_count": 659,
   "metadata": {},
   "outputs": [
    {
     "data": {
      "text/plain": [
       "array([ 8234.99714504, 27354.56551036, 14398.65063541, 15679.52092221,\n",
       "       22768.96450971,  9567.75596774, 17406.35748612, 29282.46753589,\n",
       "       15571.9980489 , 30941.23350838, 32535.49247499, 15334.15151086,\n",
       "       17738.81249474, 14378.84189449, 16212.97457213,  9570.61195024,\n",
       "        9567.19791625, 37777.62233826, 34817.51988122, 10646.59633184,\n",
       "       15720.75223281,  4457.87746236,  8861.31669129, 32011.0771691 ,\n",
       "       17381.9517879 , 24250.0679956 , 17653.18128418,  4628.65302103,\n",
       "       10137.5900208 , 12630.45346529, 29139.04766887, 11915.20752318,\n",
       "       30637.31690651, 35724.87263549, 21694.29747402,  2638.52061039,\n",
       "       17615.56613757, 13445.08906219, 12925.46412987, 20557.37608477,\n",
       "       10814.43890818, 16575.76314023, 11563.61735447, 10154.94594397,\n",
       "        3503.42094314, 13001.4707286 ,  5582.77264574, 26602.54720558,\n",
       "        9114.61263584, 13053.6522943 , 18097.62863546, 24214.6212762 ,\n",
       "       11793.43913498, 14691.28893511, 11782.30376096,  3260.03054793,\n",
       "       12895.92265802,  8304.49320145, 13005.15316282,  8587.50162861,\n",
       "        6731.76126237,  4420.48583049,  6072.01185652, 21304.62136899,\n",
       "        5786.80186704,  7422.88589682, 14517.98578292,  4773.14208967,\n",
       "       15256.73342159, 31361.97972784,  5047.36322003,  4215.13062402,\n",
       "       11119.62899124, 11028.96486543,  2274.62991377,  9571.12634521,\n",
       "       14245.88036759, 11828.35007469, 17065.27276711,  8655.93900482,\n",
       "        5960.22365973, 30240.20007975, 34705.25691426,  4848.7262885 ,\n",
       "       37397.29306998, 27969.23327176,  5107.66591196, 12147.96532265,\n",
       "       13925.4888141 , 30309.87578618, 31248.70519024, 16833.47092316,\n",
       "       13790.79536806,  8710.0432112 ,  9310.34647532,  8316.4154024 ,\n",
       "       25196.29547772, 11318.41769838,  8761.02829554, 11666.55198424,\n",
       "       12078.6628907 , 34237.97605285, 20626.17061144, 12276.71389634,\n",
       "       15950.18351954, 30158.56066543, 20679.3625188 , 12546.48824555,\n",
       "       16634.18483215, 10320.47033336,  4946.56388236,  2046.86642552,\n",
       "       13931.64343494, 24937.51323247, 11136.9517793 , 15740.64682102,\n",
       "       36549.43660365, 10392.33370215,  7813.03845391, 17026.37887861,\n",
       "        4066.98173487,  9015.74423619, 20820.14991806, 18358.97721196,\n",
       "       23871.15838151, 27035.77367747, 19143.89527375,  5139.35845801,\n",
       "       15271.68910548,  2266.37313595, 15484.25962885, 37695.09669167,\n",
       "       29214.49621611,  6092.66864209,  3200.96820208, 18062.81149848,\n",
       "       17141.16923089, 21346.12309569, 16361.20404787, 17278.36273795,\n",
       "       29152.21000769, 12450.11105946, 10821.95251559, 31319.14309403,\n",
       "       15833.90467688,  8318.82435543, 33986.24324074, 29433.31537124,\n",
       "        8906.5919602 ,  5674.88126351, 10185.20797252,  7065.92591834,\n",
       "       19255.45671097, 17328.01872599,  4565.10730588,  3732.04077338,\n",
       "       17248.16705412, 21243.8546365 , 14573.99852181, 12745.03642686,\n",
       "       15748.44806382, 26488.50507621, 12146.80522125, 11336.35651081,\n",
       "       13158.94047019, 10295.05125684, 11009.73859736,  5215.16941642,\n",
       "       13041.64660384, 11398.47136656, 10689.89153731, 10912.59727254,\n",
       "        9804.15476898,  6261.22340329, 11347.99217164, 10156.89632534,\n",
       "        8271.67044427,  5180.15360246, 25647.12926192, 17583.26829676,\n",
       "        8378.30363228,  5084.32090981,  2482.72536518, 12173.52261673,\n",
       "       10693.97174187, 36208.33251577,  7138.10134388, 28878.25403272,\n",
       "       15068.85858959,  7823.34501843,  6838.52180462,  6446.42412686,\n",
       "        9871.66730891, 12515.61566154, 28906.12411934, 13176.06659714,\n",
       "        2344.54290118, 12461.99810943,  1599.72593885, 10327.68565026,\n",
       "        9966.08526617,  9613.52862053,  5986.24823921, 19228.57882614,\n",
       "        7787.47265429, 28401.8823233 , 33473.63979266, 19389.91287602,\n",
       "        6038.49303849, 12247.16190308, 16764.79828183, 22538.93385003,\n",
       "       12212.54184361, 18708.42337483, 24593.81831749,  9900.58066409,\n",
       "       32472.51567463, 34877.81710425,  6199.06980981, 16172.18267252,\n",
       "        8554.24796598,  8168.41268623, 35342.89640334,  5079.61942018,\n",
       "        5055.99002748,  7820.71255067, 39456.66143414,  2639.48203483,\n",
       "        8183.05084446, 10078.60791962,  9630.37886248,  9365.98067902,\n",
       "       19411.71599674, 10552.5375409 ,  7641.40655324, 34401.87609208,\n",
       "       13098.42188199,  8398.65139773, 15068.09078962,  4075.73568835,\n",
       "        5800.82075606,  6233.07203726, 13885.97565639,  6745.33008528,\n",
       "       14708.19133913, 16079.20394651, 29565.28233859,  4775.8214588 ,\n",
       "        4058.12290714, 18936.34714422, 10246.40561046, 14772.60211003,\n",
       "       28921.10422459, 32860.50001272, 12702.74428648, 37812.62438596,\n",
       "       29256.5615969 ,  6996.82237156, 14679.79763962,  5088.26849943,\n",
       "       19336.98287921, 10378.57996852, 16358.6902206 ,  8949.02197623,\n",
       "       16326.12175549, 12945.23447498,  4114.24052027, 28313.95553949])"
      ]
     },
     "execution_count": 659,
     "metadata": {},
     "output_type": "execute_result"
    }
   ],
   "source": [
    "testprice1=sgd.predict(X1_test)\n",
    "testprice1"
   ]
  },
  {
   "cell_type": "code",
   "execution_count": 660,
   "metadata": {},
   "outputs": [
    {
     "data": {
      "text/html": [
       "<div>\n",
       "<style scoped>\n",
       "    .dataframe tbody tr th:only-of-type {\n",
       "        vertical-align: middle;\n",
       "    }\n",
       "\n",
       "    .dataframe tbody tr th {\n",
       "        vertical-align: top;\n",
       "    }\n",
       "\n",
       "    .dataframe thead th {\n",
       "        text-align: right;\n",
       "    }\n",
       "</style>\n",
       "<table border=\"1\" class=\"dataframe\">\n",
       "  <thead>\n",
       "    <tr style=\"text-align: right;\">\n",
       "      <th></th>\n",
       "      <th>Original Price</th>\n",
       "      <th>Predicted Price</th>\n",
       "    </tr>\n",
       "  </thead>\n",
       "  <tbody>\n",
       "    <tr>\n",
       "      <th>1099</th>\n",
       "      <td>3227.12110</td>\n",
       "      <td>8234.997145</td>\n",
       "    </tr>\n",
       "    <tr>\n",
       "      <th>759</th>\n",
       "      <td>36307.79830</td>\n",
       "      <td>27354.565510</td>\n",
       "    </tr>\n",
       "    <tr>\n",
       "      <th>215</th>\n",
       "      <td>7371.77200</td>\n",
       "      <td>14398.650635</td>\n",
       "    </tr>\n",
       "    <tr>\n",
       "      <th>903</th>\n",
       "      <td>8125.78450</td>\n",
       "      <td>15679.520922</td>\n",
       "    </tr>\n",
       "    <tr>\n",
       "      <th>989</th>\n",
       "      <td>14571.89080</td>\n",
       "      <td>22768.964510</td>\n",
       "    </tr>\n",
       "    <tr>\n",
       "      <th>...</th>\n",
       "      <td>...</td>\n",
       "      <td>...</td>\n",
       "    </tr>\n",
       "    <tr>\n",
       "      <th>408</th>\n",
       "      <td>6652.52880</td>\n",
       "      <td>8949.021976</td>\n",
       "    </tr>\n",
       "    <tr>\n",
       "      <th>466</th>\n",
       "      <td>13224.69300</td>\n",
       "      <td>16326.121755</td>\n",
       "    </tr>\n",
       "    <tr>\n",
       "      <th>724</th>\n",
       "      <td>10106.13425</td>\n",
       "      <td>12945.234475</td>\n",
       "    </tr>\n",
       "    <tr>\n",
       "      <th>693</th>\n",
       "      <td>2352.96845</td>\n",
       "      <td>4114.240520</td>\n",
       "    </tr>\n",
       "    <tr>\n",
       "      <th>738</th>\n",
       "      <td>36189.10170</td>\n",
       "      <td>28313.955539</td>\n",
       "    </tr>\n",
       "  </tbody>\n",
       "</table>\n",
       "<p>268 rows × 2 columns</p>\n",
       "</div>"
      ],
      "text/plain": [
       "      Original Price  Predicted Price\n",
       "1099      3227.12110      8234.997145\n",
       "759      36307.79830     27354.565510\n",
       "215       7371.77200     14398.650635\n",
       "903       8125.78450     15679.520922\n",
       "989      14571.89080     22768.964510\n",
       "...              ...              ...\n",
       "408       6652.52880      8949.021976\n",
       "466      13224.69300     16326.121755\n",
       "724      10106.13425     12945.234475\n",
       "693       2352.96845      4114.240520\n",
       "738      36189.10170     28313.955539\n",
       "\n",
       "[268 rows x 2 columns]"
      ]
     },
     "execution_count": 660,
     "metadata": {},
     "output_type": "execute_result"
    }
   ],
   "source": [
    "pd.DataFrame({'Original Price':Y_test,'Predicted Price':testprice1})"
   ]
  },
  {
   "cell_type": "markdown",
   "metadata": {},
   "source": [
    "# Evaluation Of Gradient Descent"
   ]
  },
  {
   "cell_type": "code",
   "execution_count": 661,
   "metadata": {},
   "outputs": [
    {
     "data": {
      "text/plain": [
       "0.6876004321425115"
      ]
     },
     "execution_count": 661,
     "metadata": {},
     "output_type": "execute_result"
    }
   ],
   "source": [
    "sgd.score(X1_test,Y_test)"
   ]
  },
  {
   "cell_type": "code",
   "execution_count": 662,
   "metadata": {},
   "outputs": [
    {
     "data": {
      "text/plain": [
       "0.7046837207926198"
      ]
     },
     "execution_count": 662,
     "metadata": {},
     "output_type": "execute_result"
    }
   ],
   "source": [
    "sgd.score(X1_train,Y_train)"
   ]
  },
  {
   "cell_type": "markdown",
   "metadata": {},
   "source": [
    "# Polynomial Regression"
   ]
  },
  {
   "cell_type": "code",
   "execution_count": 663,
   "metadata": {},
   "outputs": [],
   "source": [
    "from sklearn.preprocessing import PolynomialFeatures"
   ]
  },
  {
   "cell_type": "code",
   "execution_count": 696,
   "metadata": {},
   "outputs": [],
   "source": [
    "obj = PolynomialFeatures(2)"
   ]
  },
  {
   "cell_type": "code",
   "execution_count": 697,
   "metadata": {},
   "outputs": [],
   "source": [
    "X1_train_poly=obj.fit_transform(X1_train)"
   ]
  },
  {
   "cell_type": "code",
   "execution_count": 698,
   "metadata": {},
   "outputs": [
    {
     "data": {
      "text/plain": [
       "array([[ 1.   , 26.   , 23.7  , ...,  0.   ,  0.   ,  1.   ],\n",
       "       [ 1.   , 18.   , 30.4  , ...,  0.   ,  0.   ,  1.   ],\n",
       "       [ 1.   , 52.   , 31.2  , ...,  1.   ,  0.   ,  0.   ],\n",
       "       ...,\n",
       "       [ 1.   , 47.   , 28.215, ...,  0.   ,  0.   ,  1.   ],\n",
       "       [ 1.   , 37.   , 27.74 , ...,  1.   ,  0.   ,  0.   ],\n",
       "       [ 1.   , 24.   , 23.21 , ...,  1.   ,  0.   ,  0.   ]])"
      ]
     },
     "execution_count": 698,
     "metadata": {},
     "output_type": "execute_result"
    }
   ],
   "source": [
    "X1_train_poly"
   ]
  },
  {
   "cell_type": "code",
   "execution_count": 699,
   "metadata": {},
   "outputs": [],
   "source": [
    "lr_poly=LinearRegression()"
   ]
  },
  {
   "cell_type": "code",
   "execution_count": 700,
   "metadata": {},
   "outputs": [
    {
     "data": {
      "text/plain": [
       "LinearRegression()"
      ]
     },
     "execution_count": 700,
     "metadata": {},
     "output_type": "execute_result"
    }
   ],
   "source": [
    "lr_poly.fit(X1_train_poly,Y_train)"
   ]
  },
  {
   "cell_type": "code",
   "execution_count": 701,
   "metadata": {},
   "outputs": [],
   "source": [
    "X1_test_poly=obj.transform(X1_test)"
   ]
  },
  {
   "cell_type": "code",
   "execution_count": 702,
   "metadata": {},
   "outputs": [
    {
     "data": {
      "text/plain": [
       "array([ 5141.71060078, 37292.06761453,  9298.83095101,  9754.50416907,\n",
       "       12873.44632294,  8157.51860561, 15297.131817  , 24886.90090227,\n",
       "       11450.75507827, 22024.35189457, 40854.83175456,  4124.88203969,\n",
       "       14695.33898617, 10184.59264426, 13064.84889012,  6029.60259163,\n",
       "        6185.7749374 , 45280.21376763, 28507.95837162,  7417.80030349,\n",
       "       12940.19780497,  3860.58212735,  7258.77848485, 37196.08988106,\n",
       "       13349.54719824, 23456.34540188, 12867.81879465,  3232.4613987 ,\n",
       "        6701.02469763, 10962.05383996, 17303.35499752, 11242.55707874,\n",
       "       23116.68824596, 37343.86202489, 14259.58612567,  3311.51211462,\n",
       "       13692.90205175, 10295.71165926,  9420.05874238, 15941.02208236,\n",
       "        9255.10753395, 12296.35569643,  4979.07128569,  3099.67412369,\n",
       "        3674.49255977,  9544.40675319,  3894.01260044, 25615.21603686,\n",
       "        6790.65212857, 10130.11320057, 15355.84018111, 22982.09276787,\n",
       "        7731.43709252, 11723.57194695,  9545.47416426,  3185.55475808,\n",
       "        7610.61228068,  6892.20636271,  8950.92197991,  7858.24864303,\n",
       "        3501.60234825,  3350.32988353,  4849.5797018 , 13735.53899103,\n",
       "        5566.4614508 ,  4996.17560285, 12896.73562741,  3975.19777175,\n",
       "       10581.52645894, 20077.26750509,  4022.74067342,  6114.07245583,\n",
       "        8072.89307187,  9493.40891912,  3303.23297296,  8689.25796247,\n",
       "       13054.61062549,  7782.63033479, 10889.95576272,  5448.57508305,\n",
       "        5372.81148888, 24518.42063438, 43576.07331453,  4338.72986258,\n",
       "       41028.98022215, 30259.78993922,  3960.93652553,  8766.60928435,\n",
       "       11162.01125643, 26399.62285333, 43485.86371286, 12359.42839553,\n",
       "       11673.27780037,  4478.27886522,  4771.81361469,  5917.93365365,\n",
       "       14813.2479332 ,  4755.05934593,  6090.42381916,  7648.74801346,\n",
       "        8065.3971294 , 35968.34183978, 15956.52213893,  5782.48634585,\n",
       "        6107.73062398, 37076.44514606, 12375.24177633, 12316.88213665,\n",
       "       13535.99054268,  5268.77283092,  3984.33520538,  3168.68385739,\n",
       "        9903.16257309, 27042.07212367,  7151.70066729, 10133.60085654,\n",
       "       40663.40825829,  8748.58455905,  2199.95620194, 14532.20504387,\n",
       "        3536.6847129 ,  1376.08292729,  9675.03676001, 15169.41971797,\n",
       "       23386.78317899, 21167.69886656, 13923.4750377 ,  4856.7254299 ,\n",
       "       13620.62118685,  2964.95469361, 13074.81339536, 40700.90467561,\n",
       "       22359.81514147,  6791.45929667,  3396.84518335, 12251.91339652,\n",
       "       14165.21311203, 12104.75550535, 14880.78871108, 10461.83917322,\n",
       "       37155.87540888,  7649.3263698 ,  8663.77990406, 39808.11269639,\n",
       "       14043.74652917,  6394.75963894, 26637.45668493, 17095.83641303,\n",
       "        5545.64849584,  4538.25949858,  7931.06113869,  2578.81035031,\n",
       "       15573.08989742,  5752.56901791,  5654.776027  ,  3672.2237895 ,\n",
       "       16024.68227546, 14071.51915046, 13146.43663803,  8474.21785305,\n",
       "       14897.79855515, 33142.43626457, 10056.63404993,  5535.55921833,\n",
       "       12261.14579194,  7639.66341343,  3826.73348463,  4445.99394067,\n",
       "        7562.44524136,  9644.42000315,  8160.41477257,  9805.01654306,\n",
       "        8343.51349792,  3102.33547235, 10641.26298859,  8884.96202009,\n",
       "        4916.90652535,  4679.27094838, 30560.64703368, 15228.34714874,\n",
       "        1835.76566267,  5307.8075663 ,  3321.41528669,  7110.41680338,\n",
       "        9965.67782033, 40219.39037688,  2586.29320582, 37632.95750094,\n",
       "       11213.65739893,  4130.69583854,  5258.44415933,  3721.42547144,\n",
       "        7869.98796983, 11100.60116926, 17107.14093607, 10399.5167655 ,\n",
       "        2983.84050356, 10232.40076371,  2685.38280784,  8609.55711595,\n",
       "        9730.46722164,  7227.4306888 ,  4185.42950033, 14759.4889854 ,\n",
       "        2215.90955067, 25202.38252643, 38445.62639914, 16616.53584327,\n",
       "        3966.36127775,  6109.58652413, 14969.07184825, 12620.96683122,\n",
       "       11839.03684853, 13382.09672303, 26366.39160665,  7978.47288861,\n",
       "       37569.94646836, 41082.41047317,  5162.67491532, 13325.56501952,\n",
       "        5146.02767911,  5442.62603749, 42248.44773816,  3574.42705856,\n",
       "        3454.90384769,  5014.60472238, 51877.78036504,  2873.87479429,\n",
       "        5601.49458564,  8652.62472413,  6055.71220643,  7465.24306535,\n",
       "       13423.58435831,  7092.23201451,  5657.88524821, 42421.14342348,\n",
       "        8119.91979168,  2788.59951748, 12362.11180084,  3481.55259751,\n",
       "        4447.83485387,  2990.69762099,  9208.85055962,  6664.67996164,\n",
       "        6763.75978242, 13605.97019104, 27178.2613125 ,  3368.27991865,\n",
       "        4008.02905993, 14293.41970419,  8131.3822522 ,  8665.30822585,\n",
       "       35662.42791585, 30229.19671281,  8976.26353104, 47932.51611583,\n",
       "       27669.05512135,  3518.56613871, 14276.69129088,  4025.81427383,\n",
       "       12367.86742814,  8751.67812369, 15319.40950445,  7623.87293651,\n",
       "       15021.83500864, 11213.91615852,  3635.08444693, 30773.35609189])"
      ]
     },
     "execution_count": 702,
     "metadata": {},
     "output_type": "execute_result"
    }
   ],
   "source": [
    "lr_poly.predict(X1_test_poly)"
   ]
  },
  {
   "cell_type": "code",
   "execution_count": 703,
   "metadata": {},
   "outputs": [
    {
     "data": {
      "text/html": [
       "<div>\n",
       "<style scoped>\n",
       "    .dataframe tbody tr th:only-of-type {\n",
       "        vertical-align: middle;\n",
       "    }\n",
       "\n",
       "    .dataframe tbody tr th {\n",
       "        vertical-align: top;\n",
       "    }\n",
       "\n",
       "    .dataframe thead th {\n",
       "        text-align: right;\n",
       "    }\n",
       "</style>\n",
       "<table border=\"1\" class=\"dataframe\">\n",
       "  <thead>\n",
       "    <tr style=\"text-align: right;\">\n",
       "      <th></th>\n",
       "      <th>original values</th>\n",
       "      <th>predicted values</th>\n",
       "    </tr>\n",
       "  </thead>\n",
       "  <tbody>\n",
       "    <tr>\n",
       "      <th>1099</th>\n",
       "      <td>3227.12110</td>\n",
       "      <td>5141.710601</td>\n",
       "    </tr>\n",
       "    <tr>\n",
       "      <th>759</th>\n",
       "      <td>36307.79830</td>\n",
       "      <td>37292.067615</td>\n",
       "    </tr>\n",
       "    <tr>\n",
       "      <th>215</th>\n",
       "      <td>7371.77200</td>\n",
       "      <td>9298.830951</td>\n",
       "    </tr>\n",
       "    <tr>\n",
       "      <th>903</th>\n",
       "      <td>8125.78450</td>\n",
       "      <td>9754.504169</td>\n",
       "    </tr>\n",
       "    <tr>\n",
       "      <th>989</th>\n",
       "      <td>14571.89080</td>\n",
       "      <td>12873.446323</td>\n",
       "    </tr>\n",
       "    <tr>\n",
       "      <th>...</th>\n",
       "      <td>...</td>\n",
       "      <td>...</td>\n",
       "    </tr>\n",
       "    <tr>\n",
       "      <th>408</th>\n",
       "      <td>6652.52880</td>\n",
       "      <td>7623.872937</td>\n",
       "    </tr>\n",
       "    <tr>\n",
       "      <th>466</th>\n",
       "      <td>13224.69300</td>\n",
       "      <td>15021.835009</td>\n",
       "    </tr>\n",
       "    <tr>\n",
       "      <th>724</th>\n",
       "      <td>10106.13425</td>\n",
       "      <td>11213.916159</td>\n",
       "    </tr>\n",
       "    <tr>\n",
       "      <th>693</th>\n",
       "      <td>2352.96845</td>\n",
       "      <td>3635.084447</td>\n",
       "    </tr>\n",
       "    <tr>\n",
       "      <th>738</th>\n",
       "      <td>36189.10170</td>\n",
       "      <td>30773.356092</td>\n",
       "    </tr>\n",
       "  </tbody>\n",
       "</table>\n",
       "<p>268 rows × 2 columns</p>\n",
       "</div>"
      ],
      "text/plain": [
       "      original values  predicted values\n",
       "1099       3227.12110       5141.710601\n",
       "759       36307.79830      37292.067615\n",
       "215        7371.77200       9298.830951\n",
       "903        8125.78450       9754.504169\n",
       "989       14571.89080      12873.446323\n",
       "...               ...               ...\n",
       "408        6652.52880       7623.872937\n",
       "466       13224.69300      15021.835009\n",
       "724       10106.13425      11213.916159\n",
       "693        2352.96845       3635.084447\n",
       "738       36189.10170      30773.356092\n",
       "\n",
       "[268 rows x 2 columns]"
      ]
     },
     "execution_count": 703,
     "metadata": {},
     "output_type": "execute_result"
    }
   ],
   "source": [
    "pd.DataFrame({'original values':Y_test,'predicted values':lr_poly.predict(X1_test_poly)})"
   ]
  },
  {
   "cell_type": "markdown",
   "metadata": {},
   "source": [
    "# Evaluation Of Polynomial"
   ]
  },
  {
   "cell_type": "code",
   "execution_count": 704,
   "metadata": {},
   "outputs": [
    {
     "data": {
      "text/plain": [
       "0.8435808508870838"
      ]
     },
     "execution_count": 704,
     "metadata": {},
     "output_type": "execute_result"
    }
   ],
   "source": [
    "lr_poly.score(X1_test_poly,Y_test)"
   ]
  },
  {
   "cell_type": "code",
   "execution_count": 705,
   "metadata": {},
   "outputs": [
    {
     "data": {
      "text/plain": [
       "0.8433081592031709"
      ]
     },
     "execution_count": 705,
     "metadata": {},
     "output_type": "execute_result"
    }
   ],
   "source": [
    "lr_poly.score(X1_train_poly,Y_train)"
   ]
  },
  {
   "cell_type": "code",
   "execution_count": null,
   "metadata": {},
   "outputs": [],
   "source": []
  }
 ],
 "metadata": {
  "kernelspec": {
   "display_name": "Python 3",
   "language": "python",
   "name": "python3"
  },
  "language_info": {
   "codemirror_mode": {
    "name": "ipython",
    "version": 3
   },
   "file_extension": ".py",
   "mimetype": "text/x-python",
   "name": "python",
   "nbconvert_exporter": "python",
   "pygments_lexer": "ipython3",
   "version": "3.8.5"
  }
 },
 "nbformat": 4,
 "nbformat_minor": 4
}
